{
 "cells": [
  {
   "cell_type": "code",
   "execution_count": null,
   "id": "824d52b1-688c-485d-9ff9-b132145d4ebe",
   "metadata": {},
   "outputs": [],
   "source": [
    "Name\n",
    "\n",
    "ID number\n",
    "\n",
    "Class"
   ]
  },
  {
   "cell_type": "code",
   "execution_count": null,
   "id": "4b94a03d-932d-43d6-ad31-07e6d05cbdd3",
   "metadata": {},
   "outputs": [],
   "source": [
    "%pip install pandas matplotlib numpy"
   ]
  },
  {
   "cell_type": "code",
   "execution_count": null,
   "id": "9930d2dc-aa8b-4669-858f-d16b74c91ca7",
   "metadata": {},
   "outputs": [],
   "source": [
    "import pandas as pd"
   ]
  },
  {
   "cell_type": "code",
   "execution_count": null,
   "id": "041c05e8-2354-4f81-a3ba-68b7161401f3",
   "metadata": {},
   "outputs": [],
   "source": [
    "import matplotlib.pyplot as plt"
   ]
  },
  {
   "cell_type": "code",
   "execution_count": null,
   "id": "8e49f834-bc3c-4e87-b606-3682c15c15e5",
   "metadata": {},
   "outputs": [],
   "source": [
    "import numpy as np"
   ]
  },
  {
   "cell_type": "code",
   "execution_count": null,
   "id": "3d87c599-ff8c-4639-aa98-b1fca74cde22",
   "metadata": {},
   "outputs": [],
   "source": [
    "data_path =\"red_wine.csv\"\n",
    "df = pd.read_csv(data_path)"
   ]
  },
  {
   "cell_type": "code",
   "execution_count": null,
   "id": "b28ed26a-6956-4291-8fdc-ce6d233f1e09",
   "metadata": {},
   "outputs": [],
   "source": [
    "df.head(10)"
   ]
  },
  {
   "cell_type": "code",
   "execution_count": null,
   "id": "02065b5e-bcd7-40df-b7e9-a014e177b3d1",
   "metadata": {},
   "outputs": [],
   "source": [
    "df.tail(20)"
   ]
  },
  {
   "cell_type": "code",
   "execution_count": null,
   "id": "19104c22-53be-4c31-b134-5d7ddb35eb1d",
   "metadata": {},
   "outputs": [],
   "source": [
    "df.info()"
   ]
  },
  {
   "cell_type": "code",
   "execution_count": null,
   "id": "1dc988c9-9bdb-4790-8048-e7b5e4122a0a",
   "metadata": {},
   "outputs": [],
   "source": [
    "df.describe()"
   ]
  },
  {
   "cell_type": "code",
   "execution_count": null,
   "id": "e41ea24c-4c25-4e43-af03-f6c00b09f65d",
   "metadata": {},
   "outputs": [],
   "source": [
    "plt.figure(figsize=(8, 6))\n",
    "df['citric acid'].value_counts().sort_index().plot(kind='bar', color='orange')\n",
    "plt.title('Distribution of Citric Acid Content')\n",
    "plt.xlabel('Citric Acid Content')\n",
    "plt.ylabel('Count')\n",
    "plt.show()"
   ]
  },
  {
   "cell_type": "code",
   "execution_count": null,
   "id": "c734b753-1757-454b-bdcb-417da48266c1",
   "metadata": {},
   "outputs": [],
   "source": [
    "plt.figure(figsize=(8, 6))\n",
    "df['quality'].value_counts().sort_index().plot(kind='bar', color='lightblue')\n",
    "plt.title('Distribution of Wine Quality')\n",
    "plt.xlabel('Quality')\n",
    "plt.ylabel('Count')\n",
    "plt.show()"
   ]
  },
  {
   "cell_type": "code",
   "execution_count": null,
   "id": "8ab591e0-2377-4763-99cf-b4e90910a76b",
   "metadata": {},
   "outputs": [],
   "source": [
    "plt.figure(figsize=(8, 6))\n",
    "plt.hist(df['alcohol'], bins=20, color='lightgreen', alpha=0.7)\n",
    "plt.title('Histogram of Alcohol Content')\n",
    "plt.xlabel('Alcohol Content')\n",
    "plt.ylabel('Frequency')\n",
    "plt.show()"
   ]
  },
  {
   "cell_type": "code",
   "execution_count": null,
   "id": "263d9a16-9d7c-4b59-b867-1f3ec2ccaf6c",
   "metadata": {},
   "outputs": [],
   "source": [
    "plt.figure(figsize=(10, 6))\n",
    "plt.boxplot([df[df['quality'] == i]['residual sugar'] for i in sorted(df['quality'].unique())], labels=sorted(df['quality'].unique()))\n",
    "plt.title('Box Plot: Residual Sugar by Quality')\n",
    "plt.xlabel('Quality')\n",
    "plt.ylabel('Residual Sugar Content')\n",
    "plt.show()"
   ]
  },
  {
   "cell_type": "code",
   "execution_count": null,
   "id": "f2188a6a-4dda-4eab-addd-e644c97a3702",
   "metadata": {},
   "outputs": [],
   "source": [
    "df[['fixed acidity', 'volatile acidity', 'citric acid', 'residual sugar', 'chlorides']].hist(bins=15, figsize=(15, 10))\n",
    "plt.suptitle('Histograms of Selected Parameters', y=0.92)\n",
    "plt.show()"
   ]
  },
  {
   "cell_type": "markdown",
   "id": "36a7f8a2-c5ff-406b-b6ff-f3ded73a4596",
   "metadata": {},
   "source": [
    "### Analysis of Visualization\n",
    "- *Citric Acid Distribution:*\n",
    "  - The bar chart of citric acid distribution provides insights into the concentration of citric acid in wines.\n",
    "\n",
    "- *Quality Distribution:*\n",
    "  - The bar chart depicting the distribution of wine quality illustrates the count of wines within each quality level.\n",
    "It helps identify the prevalence of different quality ratings in the dataset.\n",
    "\n",
    "- *Alcohol Content:*\n",
    "  - The histogram of alcohol content shows a distribution with a peak around a certain alcohol content level. \n",
    "There is diversity in alcohol content, indicating variations in the dataset.\n",
    "\n",
    "- *Residual Sugar by Quality:*\n",
    "  - The box plot for residual sugar by quality levels showcases the variability of residual sugar content in wines of different qualities.\n",
    "It helps identify any trends or patterns in sugar levels.\n",
    "\n",
    "#### Histograms of Selected Parameters\n",
    "The histograms provide insights into the distribution of fixed acidity, volatile acidity, citric acid, residual sugar,and chlorides. \n",
    "From the histograms, it is evident that the volatile acidity distribution is right-skewed, indicating a higher concentration of wines with lower volatile acidity."
   ]
  },
  {
   "cell_type": "code",
   "execution_count": null,
   "id": "d347e5e3-ab7b-401a-a3e6-3e2bb659948b",
   "metadata": {},
   "outputs": [],
   "source": []
  }
 ],
 "metadata": {
  "kernelspec": {
   "display_name": "Python 3 (ipykernel)",
   "language": "python",
   "name": "python3"
  },
  "language_info": {
   "codemirror_mode": {
    "name": "ipython",
    "version": 3
   },
   "file_extension": ".py",
   "mimetype": "text/x-python",
   "name": "python",
   "nbconvert_exporter": "python",
   "pygments_lexer": "ipython3",
   "version": "3.12.1"
  }
 },
 "nbformat": 4,
 "nbformat_minor": 5
}
